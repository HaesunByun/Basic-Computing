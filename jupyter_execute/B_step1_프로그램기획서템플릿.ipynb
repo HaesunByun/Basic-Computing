{
 "cells": [
  {
   "cell_type": "markdown",
   "metadata": {
    "id": "tnggpWyuaaAw"
   },
   "source": [
    "# 프로그램기획서\n"
   ]
  },
  {
   "cell_type": "markdown",
   "metadata": {
    "id": "BvK5dDG9vaz9"
   },
   "source": [
    ":::{admonition} 안내 \n",
    ":class: info  \n",
    "\n",
    "- 2~7주차까지 배운 내용으로 코딩 할 수 있는 수준으로 기획하세요.\n",
    "- 프로그램이 크거나 기능이 많지 않아도 됩니다. 요구사항을 명확하고 상세하게 작성해주세요.\n",
    "- 요구사항명세서 작성시 교수자 or 조교 or 튜터의 도움을 받으실 수 있습니다.\n",
    "\n",
    ":::"
   ]
  }
 ],
 "metadata": {
  "colab": {
   "provenance": [
    {
     "file_id": "1Wqoo6g-UF5F7OBCtrCUF1W_SeGG4VGM8",
     "timestamp": 1678443253117
    }
   ]
  },
  "kernelspec": {
   "display_name": "Python 3",
   "name": "python3"
  },
  "language_info": {
   "codemirror_mode": {
    "name": "ipython",
    "version": 3
   },
   "file_extension": ".py",
   "mimetype": "text/x-python",
   "name": "python",
   "nbconvert_exporter": "python",
   "pygments_lexer": "ipython3",
   "version": "3.7.4"
  }
 },
 "nbformat": 4,
 "nbformat_minor": 0
}