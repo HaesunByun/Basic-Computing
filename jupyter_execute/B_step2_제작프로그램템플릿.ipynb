{
 "cells": [
  {
   "cell_type": "markdown",
   "metadata": {
    "id": "tnggpWyuaaAw"
   },
   "source": [
    "# 제작프로그램템플릿\n"
   ]
  },
  {
   "cell_type": "markdown",
   "metadata": {
    "id": "BvK5dDG9vaz9"
   },
   "source": [
    ":::{admonition} 안내 \n",
    ":class: info  \n",
    "\n",
    "- 프로그램 제작 시 교수자 or 조교 or 튜터의 도움을 받으실 수 있습니다.\n",
    "\n",
    ":::"
   ]
  }
 ],
 "metadata": {
  "colab": {
   "provenance": [
    {
     "file_id": "1Wqoo6g-UF5F7OBCtrCUF1W_SeGG4VGM8",
     "timestamp": 1678443253117
    }
   ]
  },
  "kernelspec": {
   "display_name": "Python 3",
   "name": "python3"
  },
  "language_info": {
   "codemirror_mode": {
    "name": "ipython",
    "version": 3
   },
   "file_extension": ".py",
   "mimetype": "text/x-python",
   "name": "python",
   "nbconvert_exporter": "python",
   "pygments_lexer": "ipython3",
   "version": "3.7.4"
  }
 },
 "nbformat": 4,
 "nbformat_minor": 0
}