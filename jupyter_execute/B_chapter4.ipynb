{
 "cells": [
  {
   "cell_type": "markdown",
   "metadata": {
    "id": "tnggpWyuaaAw"
   },
   "source": [
    "# Chapter 4. 반복문\n",
    "\n",
    "반복(iteration)문은 동일한 문장을 반복해서 실행하는 구조이다. 이 장에서는 반복문 while과 for에 대해서 알아본다."
   ]
  },
  {
   "cell_type": "markdown",
   "metadata": {
    "id": "GT3_F344uLCB"
   },
   "source": [
    ":::{admonition} 학습목표와 기대효과 \n",
    ":class: info  \n",
    "- 학습목표\n",
    "    - 반복문의 개념과 동작원리를 이해하고 반복 패턴을 찾아보자. \n",
    "    - 반복문 while를 배워보자.\n",
    "    - 반복문 for를 배워보자.\n",
    "\n",
    "- 기대효과\n",
    "  - 컴퓨팅 디바이스들이 어떻게 반복적인 일을 계속 할 수 있는지 이해할 수 있다.\n",
    "  \n",
    ":::"
   ]
  },
  {
   "cell_type": "markdown",
   "metadata": {
    "id": "gjDyuhysF8Dz"
   },
   "source": [
    "## While loop\n",
    "\n",
    "먼저, while문에 대해 알아보자. "
   ]
  },
  {
   "cell_type": "markdown",
   "metadata": {
    "id": "h3_b6pGnrvg7"
   },
   "source": [
    "### while statement\n",
    "while문의 형식은 다음과 같다. 조건 뒤에는 반드시 콜론(:)이 있어야 하며, 조건이 True인 동안 while문 안에 있는 실행 문장을 실행한다. 이때 실행 문장은 반드시 들여쓰기가 되어 있어야 한다.\n",
    "\n",
    "```\n",
    "while 조건:\n",
    "    실행 문장1\n",
    "    실행 문장2\n",
    "    ...\n",
    "```"
   ]
  },
  {
   "cell_type": "markdown",
   "metadata": {
    "id": "ZZ4xB-kd0ymG"
   },
   "source": [
    "- 예를 통해서 while문을 이해해보자.\n",
    "- 아래 코드에서는 반복을 위한 조건변수로 count를 활용했다. \n",
    "- 변수를 조건에 활용하기 위해서는 반드시 while문 이전에 어디에선가 미리 정의되어 있어야 한다. 이 예에서는 while문 이전에 변수 count를 1로 정의하였다.\n",
    "- 변수 count는 while문 안에서 반복할 때마다 1씩 증가한다.\n",
    "- 그러다가 count가 5보다 크면, 즉 6이 되면, `count <= 5` 조건이 False가 되어 반복을 멈춘다."
   ]
  },
  {
   "cell_type": "code",
   "execution_count": 1,
   "metadata": {
    "id": "dJlqJNKrrV4Z"
   },
   "outputs": [
    {
     "name": "stdout",
     "output_type": "stream",
     "text": [
      "재미있는 파이썬:1\n",
      "재미있는 파이썬:2\n",
      "재미있는 파이썬:3\n",
      "재미있는 파이썬:4\n",
      "재미있는 파이썬:5\n",
      "count=6\n"
     ]
    }
   ],
   "source": [
    "count = 1\n",
    "while count <= 5:\n",
    "    print(f'재미있는 파이썬:{count}')\n",
    "    count=count+1\n",
    "        \n",
    "print(f'count={count}')"
   ]
  },
  {
   "cell_type": "markdown",
   "metadata": {
    "id": "eyAzLiVhYU55"
   },
   "source": [
    "- 조건변수로 사용한 count의 초기값은 프로그래머가 설정해주면 된다. \n",
    "- 예를 들어, count=0으로 했다면 while문 안에서 count를 먼저 증가시킨다. \n",
    "- 또한 5번 반복하고 빠져나와야 하므로 `count < 5`와 같이 조건식도 달라지며, count가 5일때 while문을 빠져나온다."
   ]
  },
  {
   "cell_type": "code",
   "execution_count": 2,
   "metadata": {
    "id": "TJY-xolsYts_"
   },
   "outputs": [
    {
     "name": "stdout",
     "output_type": "stream",
     "text": [
      "재미있는 파이썬:1\n",
      "재미있는 파이썬:2\n",
      "재미있는 파이썬:3\n",
      "재미있는 파이썬:4\n",
      "재미있는 파이썬:5\n",
      "count=5\n"
     ]
    }
   ],
   "source": [
    "count = 0\n",
    "while count < 5:\n",
    "    count=count+1  \n",
    "    print(f'재미있는 파이썬:{count}')\n",
    "        \n",
    "print(f'count={count}')"
   ]
  },
  {
   "cell_type": "markdown",
   "metadata": {
    "id": "-Y3WgRLUrz02"
   },
   "source": [
    ":::{grid} 1\n",
    ":::{grid-item-card}\n",
    ":class-header: bg-light\n",
    "\n",
    "😄문제. 다음과 같이 출력하는 코드를 while문을 이용해 작성해 보시오.\n",
    "^^^\n",
    "\n",
    "<font color='blue'>`test case-1`</font>\n",
    "```\n",
    "나무를 1그루 심었습니다. 싹!\n",
    "나무를 2그루 심었습니다. 싹!싹!\n",
    "나무를 3그루 심었습니다. 싹!싹!싹!\n",
    "나무를 4그루 심었습니다. 싹!싹!싹!싹!\n",
    "나무를 5그루 심었습니다. 싹!싹!싹!싹!싹!\n",
    "```\n",
    ":::"
   ]
  },
  {
   "cell_type": "markdown",
   "metadata": {
    "id": "UDgnhsDE17Bm"
   },
   "source": [
    "### break"
   ]
  },
  {
   "cell_type": "markdown",
   "metadata": {
    "id": "snZ0xz0f3c1O"
   },
   "source": [
    "- while문의 조건 부분에 조건식이 아닌 True 또는 숫자 1을 넣어줄 수도 있다. \n",
    "- 이 경우에는 `while True:` 또는 `while 1:` 이므로 조건의 결과가 항상 True가 되어 무한 반복하게 된다. \n",
    "- 이러한 무한반복문의 경우 반드시 반복문을 탈출하는 break를 반복문 안 어딘가에 명시해주어야 한다."
   ]
  },
  {
   "cell_type": "code",
   "execution_count": 3,
   "metadata": {
    "id": "9zhzDyMFWG_Z"
   },
   "outputs": [
    {
     "name": "stdout",
     "output_type": "stream",
     "text": [
      "무야호~:0\n",
      "무야호~:1\n",
      "무야호~:2\n",
      "무야호~:3\n",
      "무야호~:4\n",
      "count=5\n"
     ]
    }
   ],
   "source": [
    "count = 0\n",
    "while True :\n",
    "    print(f'무야호~:{count}')\n",
    "    count = count + 1\n",
    "    if count == 5:\n",
    "       break\n",
    "print(f'count={count}')"
   ]
  },
  {
   "cell_type": "markdown",
   "metadata": {
    "id": "IjzXBCdW0MmQ"
   },
   "source": [
    ":::{admonition} True와 False의 의미\n",
    ":class: info  \n",
    "프로그래밍에서 True는 1의 값을 가지며, False는 0의 값을 가진다. 엄밀히 말하면 False와 0을 제외한 모든 값은 True의 의미를 가진다. 따라서 while 'a': 와 같이 써도 무한 반복된다."
   ]
  },
  {
   "cell_type": "markdown",
   "metadata": {
    "id": "DaoabxTRQGpo"
   },
   "source": [
    "### Sample Source Code #4\n",
    ":::{grid} 1\n",
    ":::{grid-item-card}\n",
    ":class-header: bg-light\n",
    "\n",
    "😄 반복하여 기회주기\n",
    "^^^\n",
    "\n",
    "- TODO-1: while문을 이용하여 number를 맞히지 못했을 때는 guess 기회를 계속 주도록 수정해보세요.\n",
    "- TODO-2: 맞혔을 때에는 Good job~문 출력 후 I'm happy를 출력해주세요.\n",
    "\n",
    "```python\n",
    "# This is a guess the number game.\n",
    "import random\n",
    "myName = input('Hello! What is your name?')\n",
    "number = random.randint(1,20)\n",
    "print ( f'Well, {myName} I am thinking of a number between 1 and 20.')\n",
    "\n",
    "guess = int(input('Take a guess.'))\n",
    "\n",
    "if guess> number:\n",
    "    print('your guess is too high')\n",
    "elif guess < number:\n",
    "    print('your guess is too  low')\n",
    "else:\n",
    "    print ( f'Good job, {myName}! You guessed my number!')\n",
    "\n",
    "```\n",
    ":::"
   ]
  },
  {
   "cell_type": "markdown",
   "metadata": {
    "id": "uHUfHBw8pPpB"
   },
   "source": [
    "### while ~ else\n",
    "- while문에도 else가 있다. \n",
    "- while문의 else 파트는 while문이 정상적으로 모든 반복을 다 한 경우에만 실행한다. \n",
    "- 즉, while문의 조건식이 False가 되서 빠져나오는 경우에만 실행하며, break를 통해서 while문을 빠져나온 경우에는 else문이 실행되지 않는다.\n",
    "\n",
    "\n",
    "```python\n",
    "count = 0\n",
    "while count < 5 :\n",
    "    pw=input('password')\n",
    "    if pw=='pythonisfun':\n",
    "       print('로그인 되었습니다.')\n",
    "       break\n",
    "    count = count + 1    \n",
    "else:\n",
    "    print ('로그인에 실패했습니다.')\n",
    "```\n",
    "\n"
   ]
  },
  {
   "cell_type": "markdown",
   "metadata": {
    "id": "CG8147CBPb2K"
   },
   "source": [
    "### Sample Source Code #5\n",
    ":::{grid} 1\n",
    ":::{grid-item-card}\n",
    ":class-header: bg-light\n",
    "\n",
    "😄 기회 횟수 제한하기: Sample Source Code #4에서 수정한 코드를 복사하여 붙여넣은 후 아래 TODO와 같이 수정해 주세요.\n",
    "^^^\n",
    "\n",
    " - TODO: guess할 기회를 5번만 주고 5번안에 맞히지 못하면 반복문을 빠져나와 `f'oops! The number I was thinking of was {number}.'` 와 같이 메시지를 출력해주세요.\n",
    " - 5번 이내에 number를 맞혔다면 맞혔을 때의 문장을 출력 후 반복문을 빠져나오도록 해야 합니다.\n",
    "\n"
   ]
  },
  {
   "cell_type": "code",
   "execution_count": null,
   "metadata": {
    "id": "XiV5TmyPPZuV"
   },
   "outputs": [],
   "source": []
  },
  {
   "cell_type": "markdown",
   "metadata": {
    "id": "8MiX1cgkpq0D"
   },
   "source": [
    "### continue\n",
    "반복문에서 continue를 만나면 continue 아래쪽에 있는 모든 코드는 실행하지 않고 while문이 있는 라인으로 이동한다.\n"
   ]
  },
  {
   "cell_type": "code",
   "execution_count": 4,
   "metadata": {
    "id": "Rip5ekUlsQbA"
   },
   "outputs": [
    {
     "name": "stdout",
     "output_type": "stream",
     "text": [
      "1\n",
      "2\n",
      "👏👏👏\n",
      "4\n",
      "5\n",
      "6\n",
      "7\n",
      "8\n",
      "9\n",
      "10\n",
      "11\n",
      "12\n",
      "👏👏👏👏👏👏👏👏👏👏👏👏👏\n",
      "14\n",
      "15\n",
      "16\n",
      "17\n",
      "18\n",
      "19\n",
      "20\n",
      "21\n",
      "22\n",
      "👏👏👏👏👏👏👏👏👏👏👏👏👏👏👏👏👏👏👏👏👏👏👏\n",
      "24\n",
      "25\n",
      "26\n",
      "27\n",
      "28\n",
      "29\n",
      "👏👏👏👏👏👏👏👏👏👏👏👏👏👏👏👏👏👏👏👏👏👏👏👏👏👏👏👏👏👏\n",
      "👏👏👏👏👏👏👏👏👏👏👏👏👏👏👏👏👏👏👏👏👏👏👏👏👏👏👏👏👏👏👏\n"
     ]
    }
   ],
   "source": [
    "count = 0\n",
    "while count < 31:\n",
    "    count += 1\n",
    "    if '3' in str(count):\n",
    "      print(f'{\"👏\"*count}') #https://www.emojiengine.com/ko/keyboard/\n",
    "      continue\n",
    "    \n",
    "    print(f'{count}')\n"
   ]
  },
  {
   "cell_type": "markdown",
   "metadata": {
    "id": "Ow3aKqi_fJX4"
   },
   "source": [
    ":::{grid} 1\n",
    ":::{grid-item-card}\n",
    ":class-header: bg-light\n",
    "\n",
    "😄문제. 위 코드를 수정하여 3, 6, 9 게임을 완성해보세요. 3,6,9가 문자열에 들어 있는 경우에는 박수를 숫자만큼 출력하도록 수정하시오.\n",
    "^^^\n",
    "\n",
    "```\n",
    "1 \n",
    "2\n",
    "👏👏👏\n",
    "4\n",
    "5\n",
    "👏👏👏👏👏👏\n",
    "7\n",
    "8\n",
    "\n",
    "......\n",
    "28 \n",
    "👏👏👏👏👏👏👏👏👏👏👏👏👏👏👏👏👏👏👏👏👏👏👏👏👏👏👏👏👏\n",
    "......\n",
    "```\n",
    "\n",
    "\n",
    ":::"
   ]
  },
  {
   "cell_type": "markdown",
   "metadata": {
    "id": "AvpKLdGX2IJW"
   },
   "source": [
    "### while 중첩문\n",
    "\n",
    "중첩 while문은 while문 안에 다른 while문이 들어 있는 것을 말한다. "
   ]
  },
  {
   "cell_type": "code",
   "execution_count": 5,
   "metadata": {
    "id": "LYnUZLrZKByj"
   },
   "outputs": [
    {
     "name": "stdout",
     "output_type": "stream",
     "text": [
      "🍩🍩🍩\n",
      "🍩🍩🍩\n",
      "🍩🍩🍩\n",
      "🍩🍩🍩\n",
      "🍩🍩🍩\n"
     ]
    }
   ],
   "source": [
    "out = 0\n",
    "while out<5:\n",
    "  in_num = 1\n",
    "  while in_num <= 3:\n",
    "    print('🍩', end='')\n",
    "    in_num += 1\n",
    "  print()\n",
    "  out += 1"
   ]
  },
  {
   "cell_type": "markdown",
   "metadata": {
    "id": "CAetDoSN3lWf"
   },
   "source": [
    "## for loop\n",
    "while문이 주어진 조건에 대해 반복하는 것이였다면 for문은 주어진 범위에 대해 순회한다. "
   ]
  },
  {
   "cell_type": "markdown",
   "metadata": {
    "id": "4uTDclnTiMOE"
   },
   "source": [
    "### for statements\n",
    "\n",
    "```\n",
    "for 변수 in 범위(반복가능한 것들):\n",
    "    statements\n",
    "next_statements\n",
    "```\n",
    "- while문에서는 조건에 사용될 변수를 while문 전에 미리 정의해야 했다. 그러나 for문에서는 for 다음에 바로 정의하면 된다. \n",
    "- 범위에는 range, 문자열, 리스트, 튜플, 딕셔너리 등  반복가능한 데이터 타입(iterable data type)들이 올 수 있다.\n"
   ]
  },
  {
   "cell_type": "markdown",
   "metadata": {
    "id": "JxiYM7MytEWP"
   },
   "source": [
    "- for문과 함께 유용하게 사용되는 range() 함수를 먼저 알아보자. \n",
    "- range() 함수는 일정한 규칙에 따라 나열된 수열을 생성한다.\n",
    "\n",
    "```\n",
    "range(시작, 끝, 간격)\n",
    "```\n",
    "- 시작: 범위의 시작 값이며, 생략하면 0이다.\n",
    "- 끝: 범위의 끝값이며, 끝값은 범위에 미포함이다.\n",
    "- 간격: 범위의 간격이며, 생략하면 1이다.\n",
    "\n",
    "|사용 방법|의미|예시|\n",
    "|:----------:|:----------|:----------|\n",
    "|`range(끝)`|[0, 1, 2, 3, ..., 끝-1]| range(4) → [0, 1, 2, 3] |\n",
    "|`range(시작, 끝)`|[시작, 시작+1, 시작+2, ..., 끝-1]| range(3, 5) → [3, 4]| \n",
    "|`range(시작, 끝, 증감)`|[시작, 시작+증감, 시작+증감×2, …, 시작+증감×k]| range(2, 11, 2) → [2, 4, 6, 8, 10]| \n",
    "|`range(시작, 끝, -증감)`|[시작, 시작-증감, 시작-증감×2, …, 시작-증감×k]|range(9, 1, -2) → [9, 7, 5, 3]|\n",
    "\n"
   ]
  },
  {
   "cell_type": "markdown",
   "metadata": {
    "id": "zx7e1RBptuey"
   },
   "source": [
    "- range() 함수의 예를 살펴보자. \n",
    "- `range(1, 10)`은 1부터 9까지 수열을 생성한다.\n",
    "- `range(10)`은 시작 값 생략으로 0부터 9까지 수열을 생성한다.\n",
    "- `range(3, 10, 3)`은 3부터 9까지 3씩 간격으로 수열을 생성한다.\n",
    "- `range(10, 3, -3)`은 10부터 4까지 -3씩 간격으로 수열을 생성한다."
   ]
  },
  {
   "cell_type": "markdown",
   "metadata": {
    "id": "YactELopf_Dj"
   },
   "source": [
    ":::{admonition} list()를 활용\n",
    ":class: tip  \n",
    "list()와 함께 활용하면 range()함수에서 생성한 수열의 리스트를 볼 수 있다.\n",
    "\n",
    "예, list(range(1, 10))\n",
    "\n",
    ":::"
   ]
  },
  {
   "cell_type": "code",
   "execution_count": 6,
   "metadata": {
    "id": "yHdbUTX-bzC6"
   },
   "outputs": [
    {
     "data": {
      "text/plain": [
       "range(10, 3, -3)"
      ]
     },
     "execution_count": 6,
     "metadata": {},
     "output_type": "execute_result"
    }
   ],
   "source": [
    "range(1, 10) \n",
    "range(10)   \n",
    "range(3, 10, 3) \n",
    "range(10, 3, -3)"
   ]
  },
  {
   "cell_type": "markdown",
   "metadata": {
    "id": "oJALTHTrYtSr"
   },
   "source": [
    "- `범위에 range()`를 넣어보자.\n",
    "- 1부터 10까지 범위를 변수 count가 그 값을 순서대로 저장하면서 반복한다.\n",
    "- 비슷한 출력결과를 while문에서도 해봤을 것이다. for문이 while문보다는 코드가 간결한 것을 알 수 있다."
   ]
  },
  {
   "cell_type": "code",
   "execution_count": 7,
   "metadata": {
    "id": "5A9dY-DTxZj5"
   },
   "outputs": [
    {
     "name": "stdout",
     "output_type": "stream",
     "text": [
      "🌳를 1그루 심었습니다. 🌳\n",
      "🌳를 2그루 심었습니다. 🌳🌳\n",
      "🌳를 3그루 심었습니다. 🌳🌳🌳\n",
      "🌳를 4그루 심었습니다. 🌳🌳🌳🌳\n",
      "🌳를 5그루 심었습니다. 🌳🌳🌳🌳🌳\n",
      "🌳를 6그루 심었습니다. 🌳🌳🌳🌳🌳🌳\n",
      "🌳를 7그루 심었습니다. 🌳🌳🌳🌳🌳🌳🌳\n",
      "🌳를 8그루 심었습니다. 🌳🌳🌳🌳🌳🌳🌳🌳\n",
      "🌳를 9그루 심었습니다. 🌳🌳🌳🌳🌳🌳🌳🌳🌳\n",
      "🌳를 10그루 심었습니다. 🌳🌳🌳🌳🌳🌳🌳🌳🌳🌳\n",
      "아~ 공기좋다~~~\n"
     ]
    }
   ],
   "source": [
    "for count  in range(1, 11):\n",
    "    print(f'🌳를 {count}그루 심었습니다. {\"🌳\"*count}')\n",
    "print('아~ 공기좋다~~~')"
   ]
  },
  {
   "cell_type": "code",
   "execution_count": 8,
   "metadata": {
    "id": "Wogmw0e-WpO7"
   },
   "outputs": [
    {
     "name": "stdout",
     "output_type": "stream",
     "text": [
      "🌳를 1그루 심었습니다. 🌳\n",
      "🌳를 3그루 심었습니다. 🌳🌳🌳\n",
      "🌳를 5그루 심었습니다. 🌳🌳🌳🌳🌳\n",
      "🌳를 7그루 심었습니다. 🌳🌳🌳🌳🌳🌳🌳\n",
      "🌳를 9그루 심었습니다. 🌳🌳🌳🌳🌳🌳🌳🌳🌳\n",
      "아~ 공기좋다~~~\n"
     ]
    }
   ],
   "source": [
    "for count  in range(1, 11, 2):\n",
    "    print(f'🌳를 {count}그루 심었습니다. {\"🌳\"*count}')\n",
    "print('아~ 공기좋다~~~')"
   ]
  },
  {
   "cell_type": "markdown",
   "metadata": {
    "id": "EiIozt4TusdP"
   },
   "source": [
    ":::{grid} 1\n",
    ":::{grid-item-card}\n",
    ":class-header: bg-light\n",
    "\n",
    "😄문제. for문을 이용하여 구구단 2단을 출력해보세요.\n",
    "^^^\n",
    "\n",
    "<font color='blue'>`test case-1`</font>\n",
    "```\n",
    "2 x 1 = 2\n",
    "2 x 2 = 4\n",
    "2 x 3 = 6\n",
    "2 x 4 = 8\n",
    "2 x 5 = 10\n",
    "2 x 6 = 12\n",
    "2 x 7 = 14\n",
    "2 x 8 = 16\n",
    "2 x 9 = 18\n",
    "```\n",
    ":::"
   ]
  },
  {
   "cell_type": "markdown",
   "metadata": {
    "id": "M5TAIj4Mv7-L"
   },
   "source": [
    "- 반복문안에서 값을 누적시키기 위해서는 누적을 위한 변수를 반복문 밖 위쪽에 정의해야 한다. \n",
    "- 아래 코드에서 total은 처음에 0이였지만 반복할 때마다 total = total + i에 의해\n",
    " 1=0+1, 3=1+2, 6=3+3, 10=6+4.....로 누적값을 가진다."
   ]
  },
  {
   "cell_type": "code",
   "execution_count": 9,
   "metadata": {
    "id": "C69aheWCxh3T"
   },
   "outputs": [
    {
     "name": "stdout",
     "output_type": "stream",
     "text": [
      "1\n",
      "3\n",
      "6\n",
      "10\n",
      "15\n",
      "21\n",
      "28\n",
      "36\n",
      "45\n",
      "55\n",
      "The total is 55\n"
     ]
    }
   ],
   "source": [
    "total=0\n",
    "for i in range(1,11): \n",
    "  total = total+i   \n",
    "  print(total)\n",
    "\n",
    "print(\"The total is\", total)"
   ]
  },
  {
   "cell_type": "markdown",
   "metadata": {
    "id": "Zg_7QOF3xMG8"
   },
   "source": [
    "- `범위에 문자열`을 넣을 수 있다. 문자열의 경우 변수 i가 한 글자씩 순회한다."
   ]
  },
  {
   "cell_type": "code",
   "execution_count": 10,
   "metadata": {
    "id": "h1nqTkNO5pOW"
   },
   "outputs": [
    {
     "name": "stdout",
     "output_type": "stream",
     "text": [
      "H\n",
      "e\n",
      "l\n",
      "l\n",
      "o\n",
      " \n",
      "W\n",
      "o\n",
      "r\n",
      "l\n",
      "d\n"
     ]
    }
   ],
   "source": [
    "for i in 'Hello World':\n",
    "    print (i)"
   ]
  },
  {
   "cell_type": "markdown",
   "metadata": {
    "id": "pkCQfCRca74o"
   },
   "source": [
    "- `범위에 리스트`를 넣을 수 있다. 리스트의 경우 변수 i가 리스트내 아이템(원소, 요소, 엘리먼트)를 하나씩 순회한다. \n",
    "- 리스트는 아직 안 배웠으니 ['programming', 'pasta', 'spam', 'play park'] 이러한 구조가 리스트라는 것만 눈에 익혀두자."
   ]
  },
  {
   "cell_type": "code",
   "execution_count": 11,
   "metadata": {
    "id": "k6HCH9lra1QY"
   },
   "outputs": [
    {
     "name": "stdout",
     "output_type": "stream",
     "text": [
      "programming\n",
      "pasta\n",
      "spam\n",
      "play park\n"
     ]
    }
   ],
   "source": [
    "for i in ['programming', 'pasta', 'spam', 'play park']:\n",
    "    print (i)"
   ]
  },
  {
   "cell_type": "markdown",
   "metadata": {
    "id": "_8EMUw36bWEZ"
   },
   "source": [
    "- `범위에 딕셔너리`를 넣을 수 있다. 딕셔너리의 경우 변수 i가 딕셔너리의 key를 하나씩 순회한다. \n",
    "- 딕셔너리 또한 아직 안 배웠으니 {'2323-12345':'가영', '2323-12346':'나영'} 이러한 구조가 딕셔너리라는 것만 눈에 익혀두자."
   ]
  },
  {
   "cell_type": "code",
   "execution_count": 12,
   "metadata": {
    "id": "ct5FdwIpbuVU"
   },
   "outputs": [
    {
     "name": "stdout",
     "output_type": "stream",
     "text": [
      "2323-12345\n",
      "2323-12346\n"
     ]
    }
   ],
   "source": [
    "for i in {'2323-12345':'가영', '2323-12346':'나영'}:\n",
    "    print (i)"
   ]
  },
  {
   "cell_type": "markdown",
   "metadata": {
    "id": "aDrE2--6cC_S"
   },
   "source": [
    "### for~else\n",
    "for문에도 else가 있다. while ~ else와 마찬가지로 for문이 정상적으로 모든 반복을 다 한 경우에만 실행한다.\n",
    "\n",
    "```\n",
    "for 변수 in 리스트(or 문자열 등) :\n",
    "    statements1\n",
    "    if 조건: \n",
    "        if_statements\n",
    "        break\n",
    "    statements2\n",
    "else: \n",
    "    else_statements\n",
    "next_statements\n",
    "```"
   ]
  },
  {
   "cell_type": "code",
   "execution_count": 13,
   "metadata": {
    "id": "2QOe_jn_b8pz"
   },
   "outputs": [
    {
     "name": "stdout",
     "output_type": "stream",
     "text": [
      "u가 검색되었습니다.\n",
      "END\n"
     ]
    }
   ],
   "source": [
    "a = 'computer'\n",
    "letter = 'u'\n",
    "\n",
    "for i in a:\n",
    "    if i == letter:\n",
    "        print(f'{letter}가 검색되었습니다.')\n",
    "        break\n",
    "else:\n",
    "    print(f'{letter}는 검색되지 않았습니다.')\n",
    "print('END')"
   ]
  },
  {
   "cell_type": "markdown",
   "metadata": {
    "id": "ItSjcdDaa6Hw"
   },
   "source": [
    "### for 중첩문\n",
    "\n",
    "중첩 for문은 for문 안에 다른 for문이 들어 있는 것을 말한다. "
   ]
  },
  {
   "cell_type": "code",
   "execution_count": 14,
   "metadata": {
    "id": "eyYY5RYEa3B7"
   },
   "outputs": [
    {
     "name": "stdout",
     "output_type": "stream",
     "text": [
      "2단\n",
      "2*1=2\n",
      "2*2=4\n",
      "2*3=6\n",
      "2*4=8\n",
      "2*5=10\n",
      "2*6=12\n",
      "2*7=14\n"
     ]
    },
    {
     "name": "stdout",
     "output_type": "stream",
     "text": [
      "2*8=16\n",
      "2*9=18\n",
      "\n",
      "3단\n",
      "3*1=3\n",
      "3*2=6\n",
      "3*3=9\n",
      "3*4=12\n",
      "3*5=15\n",
      "3*6=18\n",
      "3*7=21\n",
      "3*8=24\n",
      "3*9=27\n",
      "\n",
      "4단\n",
      "4*1=4\n",
      "4*2=8\n",
      "4*3=12\n",
      "4*4=16\n",
      "4*5=20\n",
      "4*6=24\n",
      "4*7=28\n",
      "4*8=32\n",
      "4*9=36\n",
      "\n",
      "5단\n",
      "5*1=5\n",
      "5*2=10\n",
      "5*3=15\n",
      "5*4=20\n",
      "5*5=25\n",
      "5*6=30\n",
      "5*7=35\n",
      "5*8=40\n",
      "5*9=45\n",
      "\n",
      "6단\n",
      "6*1=6\n",
      "6*2=12\n",
      "6*3=18\n",
      "6*4=24\n",
      "6*5=30\n",
      "6*6=36\n",
      "6*7=42\n",
      "6*8=48\n",
      "6*9=54\n",
      "\n",
      "7단\n",
      "7*1=7\n",
      "7*2=14\n",
      "7*3=21\n",
      "7*4=28\n",
      "7*5=35\n",
      "7*6=42\n",
      "7*7=49\n",
      "7*8=56\n",
      "7*9=63\n",
      "\n",
      "8단\n",
      "8*1=8\n",
      "8*2=16\n",
      "8*3=24\n",
      "8*4=32\n",
      "8*5=40\n",
      "8*6=48\n",
      "8*7=56\n",
      "8*8=64\n",
      "8*9=72\n",
      "\n",
      "9단\n",
      "9*1=9\n",
      "9*2=18\n",
      "9*3=27\n",
      "9*4=36\n",
      "9*5=45\n",
      "9*6=54\n",
      "9*7=63\n",
      "9*8=72\n",
      "9*9=81"
     ]
    },
    {
     "name": "stdout",
     "output_type": "stream",
     "text": [
      "\n",
      "\n"
     ]
    }
   ],
   "source": [
    "for dan in range(2,10):\n",
    "    print(f'{dan}단')\n",
    "    for num in range(1,10):\n",
    "        print(f'{dan}*{num}={dan*num}')\n",
    "    print()"
   ]
  },
  {
   "cell_type": "markdown",
   "metadata": {
    "id": "288BPbx2y3MQ"
   },
   "source": [
    "## 마무리\n",
    "\n",
    "- 반복구조는 조건 또는 범위에 따라 실행문장을 반복한다. \n",
    "- while문은 조건비교 결과가 True인 동안 블록 소스코드를 반복 수행한다.\n",
    "- for문은 범위의 처음부터 끝까지 차례대로 반복한다. \n",
    "- for문의 in 연산자 뒤에는 반복가능한 데이터타입인 숫자, 리스트, 문자열, 딕셔너리, 튜플, 셋 등이 올 수 있다.\n",
    "- for 다음의 변수는 in 뒤에 있는 자료값을 하나씩 차례대로 저장한다.\n",
    "- for문은 숫자값의 범위를 만들어주는 range()함수를 유용하게 활용한다.\n"
   ]
  }
 ],
 "metadata": {
  "colab": {
   "provenance": [
    {
     "file_id": "1Np-Rc1R8CI349pzjEBMVyDQrL9U486Fn",
     "timestamp": 1678633214934
    },
    {
     "file_id": "1qFNWy96CUa9k4yv5RHUhhZGOL3JLW0lG",
     "timestamp": 1655963291349
    }
   ],
   "toc_visible": true
  },
  "kernelspec": {
   "display_name": "Python 3",
   "name": "python3"
  },
  "language_info": {
   "codemirror_mode": {
    "name": "ipython",
    "version": 3
   },
   "file_extension": ".py",
   "mimetype": "text/x-python",
   "name": "python",
   "nbconvert_exporter": "python",
   "pygments_lexer": "ipython3",
   "version": "3.7.4"
  }
 },
 "nbformat": 4,
 "nbformat_minor": 0
}