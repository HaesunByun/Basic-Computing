{
 "cells": [
  {
   "cell_type": "markdown",
   "metadata": {
    "id": "TR6Eqs6OT_AH"
   },
   "source": [
    "## Problem: 수식으로 표현해보기"
   ]
  },
  {
   "cell_type": "markdown",
   "metadata": {
    "id": "odHzxf6RStQ7"
   },
   "source": [
    ":::{grid} 1\n",
    ":::{grid-item-card}\n",
    ":class-header: bg-light\n",
    "\n",
    "😄다음을 수식으로 표현해보고 결과를 출력하시오.\n",
    "^^^\n",
    "  - 정수 10과 정수 20을 더하시오.\n",
    "  - 정수 30에서 정수 5를 빼시오.\n",
    "  - 정수 15와 실수 7.0을 곱하시오.\n",
    "  - 정수 2를 정수 4로 나누시오.\n",
    "  - 실수 2.0을 실수 4.0으로 나누시오.\n",
    "  - 정수 50을 정수 4로 나눈 몫을 정수로 구하시오. \n",
    "  - 정수 50을 정수 4로 나눈 나머지를 구하시오.\n",
    "  - 정수 10을 정수 3으로 지수승하시오.\n",
    ":::\n",
    "\n",
    "\n",
    "Output\n",
    "```\n",
    "30\n",
    "25\n",
    "105.0\n",
    "0.5\n",
    "0.5\n",
    "12\n",
    "2\n",
    "1000\n",
    "```\n",
    "\n",
    "\n"
   ]
  },
  {
   "cell_type": "code",
   "execution_count": null,
   "metadata": {
    "id": "hyIJ6moiWKj1"
   },
   "outputs": [],
   "source": []
  },
  {
   "cell_type": "markdown",
   "metadata": {
    "id": "X5twkiGwEs0k"
   },
   "source": [
    "## Problem: 문자열 출력하기"
   ]
  },
  {
   "cell_type": "markdown",
   "metadata": {
    "id": "a2Pt68wWFdCG"
   },
   "source": [
    ":::{grid} 1\n",
    ":::{grid-item-card}\n",
    ":class-header: bg-light\n",
    "\n",
    "😄 다음 문자열을 홑따옴표, 쌍따옴표 모두 나오도록 출력하시오.\n",
    "^^^\n",
    "\n",
    "\n",
    "Output\n",
    "\n",
    "```\n",
    "'끝날 때 까지 \"끝\"난게 아니다.'\n",
    "```\n",
    ":::"
   ]
  },
  {
   "cell_type": "code",
   "execution_count": null,
   "metadata": {
    "id": "9Fs9RyuKFbhK"
   },
   "outputs": [],
   "source": []
  }
 ],
 "metadata": {
  "colab": {
   "provenance": [],
   "toc_visible": true
  },
  "kernelspec": {
   "display_name": "Python 3",
   "name": "python3"
  },
  "language_info": {
   "codemirror_mode": {
    "name": "ipython",
    "version": 3
   },
   "file_extension": ".py",
   "mimetype": "text/x-python",
   "name": "python",
   "nbconvert_exporter": "python",
   "pygments_lexer": "ipython3",
   "version": "3.7.4"
  }
 },
 "nbformat": 4,
 "nbformat_minor": 0
}